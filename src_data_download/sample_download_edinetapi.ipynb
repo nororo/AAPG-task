{
 "cells": [
  {
   "cell_type": "markdown",
   "metadata": {},
   "source": [
    "# Data download example"
   ]
  },
  {
   "cell_type": "markdown",
   "metadata": {},
   "source": [
    "#### Account\n",
    "Before download you need to create an EDINET API account\n",
    "https://disclosure2dl.edinet-fsa.go.jp/guide/static/disclosure/WZEK0110.html\n"
   ]
  },
  {
   "cell_type": "markdown",
   "metadata": {},
   "source": [
    "# Setting"
   ]
  },
  {
   "cell_type": "code",
   "execution_count": 1,
   "metadata": {},
   "outputs": [],
   "source": [
    "from time import sleep\n",
    "from tqdm import tqdm\n",
    "import numpy as np\n",
    "import pandas as pd\n",
    "import sys\n",
    "import warnings\n",
    "warnings.filterwarnings('ignore')\n",
    "\n",
    "from pathlib import Path\n",
    "\n",
    "# temporary download directory\n",
    "DATA_PATH = Path(\"../data\")\n",
    "(DATA_PATH / \"raw/xbrl_doc\").mkdir(parents=True, exist_ok=True) # ダウンロードしたzipファイルの保管場所\n",
    "(DATA_PATH / \"raw/xbrl_doc_ext\").mkdir(parents=True, exist_ok=True) # zipファイルから抽出したXBRL、スキーマファイル、リンクベースファイルの保管場所\n",
    "\n",
    "your_api_key: str = input(\"EDINET API key: please input your EDINET API key: \")\n"
   ]
  },
  {
   "cell_type": "markdown",
   "metadata": {},
   "source": [
    "# 1. Get list of submitted documents"
   ]
  },
  {
   "cell_type": "code",
   "execution_count": 2,
   "metadata": {},
   "outputs": [],
   "source": [
    "from .edinet_api import request_term, edinet_response_metadata, request_doc, EdinetResponseDf, EdinetResponseList"
   ]
  },
  {
   "cell_type": "code",
   "execution_count": 3,
   "metadata": {},
   "outputs": [
    {
     "name": "stderr",
     "output_type": "stream",
     "text": [
      "100%|██████████| 16/16 [34:55<00:00, 130.98s/it]\n"
     ]
    }
   ],
   "source": [
    "res_results:EdinetResponseList = request_term(api_key=your_api_key, start_date_str='2024-06-15', end_date_str='2024-06-30')"
   ]
  },
  {
   "cell_type": "code",
   "execution_count": 4,
   "metadata": {},
   "outputs": [],
   "source": [
    "edinet_response_metadata_obj = edinet_response_metadata(\n",
    "    tse_sector_url = \"https://www.jpx.co.jp/markets/statistics-equities/misc/tvdivq0000001vg2-att/data_j.xls\",\n",
    "    tmp_path_str = str(DATA_PATH)\n",
    ")\n",
    "edinet_response_metadata_obj.set_data(res_results)\n",
    "filename = str(DATA_PATH / \"data.jsonl\")\n",
    "edinet_response_metadata_obj.save(filename)"
   ]
  },
  {
   "cell_type": "code",
   "execution_count": 5,
   "metadata": {},
   "outputs": [],
   "source": [
    "edinet_response_metadata_obj = edinet_response_metadata(\n",
    "    filename = str(DATA_PATH / \"data.jsonl\"),\n",
    "    tse_sector_url = \"https://www.jpx.co.jp/markets/statistics-equities/misc/tvdivq0000001vg2-att/data_j.xls\",\n",
    "    tmp_path_str = str(DATA_PATH)\n",
    "    )\n",
    "\n",
    "yuho_df:EdinetResponseDf = edinet_response_metadata_obj.get_yuho_df()"
   ]
  },
  {
   "cell_type": "code",
   "execution_count": 6,
   "metadata": {},
   "outputs": [
    {
     "name": "stdout",
     "output_type": "stream",
     "text": [
      "業種が食料品の有価証券報告書数: 79\n"
     ]
    }
   ],
   "source": [
    "yuho_df_filtered:EdinetResponseDf = yuho_df.query(\"sector_label_33 == '食料品'\")\n",
    "print(\"foof sector:\",len(yuho_df_filtered))"
   ]
  },
  {
   "cell_type": "code",
   "execution_count": 7,
   "metadata": {},
   "outputs": [
    {
     "data": {
      "text/plain": [
       "Index(['index', 'access_date', 'seqNumber', 'edinetCode', 'secCode', 'JCN',\n",
       "       'filerName', 'fundCode', 'ordinanceCode', 'formCode', 'docTypeCode',\n",
       "       'periodStart', 'periodEnd', 'submitDateTime', 'docDescription',\n",
       "       'issuerEdinetCode', 'subjectEdinetCode', 'subsidiaryEdinetCode',\n",
       "       'currentReportReason', 'parentDocID', 'opeDateTime', 'withdrawalStatus',\n",
       "       'docInfoEditStatus', 'disclosureStatus', 'xbrlFlag', 'pdfFlag',\n",
       "       'attachDocFlag', 'englishDocFlag', 'csvFlag', 'legalStatus',\n",
       "       'sector_label_33'],\n",
       "      dtype='object')"
      ]
     },
     "execution_count": 7,
     "metadata": {},
     "output_type": "execute_result"
    }
   ],
   "source": [
    "yuho_df_filtered = yuho_df_filtered.set_index(\"docID\").head(30)\n",
    "yuho_df_filtered.columns"
   ]
  },
  {
   "cell_type": "code",
   "execution_count": 8,
   "metadata": {},
   "outputs": [
    {
     "data": {
      "text/html": [
       "<div>\n",
       "<style scoped>\n",
       "    .dataframe tbody tr th:only-of-type {\n",
       "        vertical-align: middle;\n",
       "    }\n",
       "\n",
       "    .dataframe tbody tr th {\n",
       "        vertical-align: top;\n",
       "    }\n",
       "\n",
       "    .dataframe thead th {\n",
       "        text-align: right;\n",
       "    }\n",
       "</style>\n",
       "<table border=\"1\" class=\"dataframe\">\n",
       "  <thead>\n",
       "    <tr style=\"text-align: right;\">\n",
       "      <th></th>\n",
       "      <th>index</th>\n",
       "      <th>access_date</th>\n",
       "      <th>seqNumber</th>\n",
       "      <th>edinetCode</th>\n",
       "      <th>secCode</th>\n",
       "      <th>JCN</th>\n",
       "      <th>filerName</th>\n",
       "      <th>fundCode</th>\n",
       "      <th>ordinanceCode</th>\n",
       "      <th>formCode</th>\n",
       "      <th>...</th>\n",
       "      <th>withdrawalStatus</th>\n",
       "      <th>docInfoEditStatus</th>\n",
       "      <th>disclosureStatus</th>\n",
       "      <th>xbrlFlag</th>\n",
       "      <th>pdfFlag</th>\n",
       "      <th>attachDocFlag</th>\n",
       "      <th>englishDocFlag</th>\n",
       "      <th>csvFlag</th>\n",
       "      <th>legalStatus</th>\n",
       "      <th>sector_label_33</th>\n",
       "    </tr>\n",
       "    <tr>\n",
       "      <th>docID</th>\n",
       "      <th></th>\n",
       "      <th></th>\n",
       "      <th></th>\n",
       "      <th></th>\n",
       "      <th></th>\n",
       "      <th></th>\n",
       "      <th></th>\n",
       "      <th></th>\n",
       "      <th></th>\n",
       "      <th></th>\n",
       "      <th></th>\n",
       "      <th></th>\n",
       "      <th></th>\n",
       "      <th></th>\n",
       "      <th></th>\n",
       "      <th></th>\n",
       "      <th></th>\n",
       "      <th></th>\n",
       "      <th></th>\n",
       "      <th></th>\n",
       "      <th></th>\n",
       "    </tr>\n",
       "  </thead>\n",
       "  <tbody>\n",
       "    <tr>\n",
       "      <th>S100TMYO</th>\n",
       "      <td>231</td>\n",
       "      <td>2024-12-19</td>\n",
       "      <td>232</td>\n",
       "      <td>E00385</td>\n",
       "      <td>22200</td>\n",
       "      <td>4110001006378</td>\n",
       "      <td>亀田製菓株式会社</td>\n",
       "      <td></td>\n",
       "      <td>010</td>\n",
       "      <td>030000</td>\n",
       "      <td>...</td>\n",
       "      <td>0</td>\n",
       "      <td>0</td>\n",
       "      <td>0</td>\n",
       "      <td>1</td>\n",
       "      <td>1</td>\n",
       "      <td>1</td>\n",
       "      <td>0</td>\n",
       "      <td>1</td>\n",
       "      <td>1</td>\n",
       "      <td>食料品</td>\n",
       "    </tr>\n",
       "    <tr>\n",
       "      <th>S100TNWB</th>\n",
       "      <td>198</td>\n",
       "      <td>2024-12-19</td>\n",
       "      <td>199</td>\n",
       "      <td>E31012</td>\n",
       "      <td>28830</td>\n",
       "      <td>2010001048993</td>\n",
       "      <td>株式会社大冷</td>\n",
       "      <td></td>\n",
       "      <td>010</td>\n",
       "      <td>030000</td>\n",
       "      <td>...</td>\n",
       "      <td>0</td>\n",
       "      <td>0</td>\n",
       "      <td>0</td>\n",
       "      <td>1</td>\n",
       "      <td>1</td>\n",
       "      <td>1</td>\n",
       "      <td>0</td>\n",
       "      <td>1</td>\n",
       "      <td>1</td>\n",
       "      <td>食料品</td>\n",
       "    </tr>\n",
       "    <tr>\n",
       "      <th>S100TLP1</th>\n",
       "      <td>214</td>\n",
       "      <td>2024-12-19</td>\n",
       "      <td>215</td>\n",
       "      <td>E00406</td>\n",
       "      <td>22670</td>\n",
       "      <td>7010401029746</td>\n",
       "      <td>株式会社ヤクルト本社</td>\n",
       "      <td></td>\n",
       "      <td>010</td>\n",
       "      <td>030000</td>\n",
       "      <td>...</td>\n",
       "      <td>0</td>\n",
       "      <td>0</td>\n",
       "      <td>0</td>\n",
       "      <td>1</td>\n",
       "      <td>1</td>\n",
       "      <td>1</td>\n",
       "      <td>0</td>\n",
       "      <td>1</td>\n",
       "      <td>1</td>\n",
       "      <td>食料品</td>\n",
       "    </tr>\n",
       "    <tr>\n",
       "      <th>S100TN7J</th>\n",
       "      <td>514</td>\n",
       "      <td>2024-12-19</td>\n",
       "      <td>515</td>\n",
       "      <td>E00354</td>\n",
       "      <td>21070</td>\n",
       "      <td>2010001034845</td>\n",
       "      <td>東洋精糖株式会社</td>\n",
       "      <td></td>\n",
       "      <td>010</td>\n",
       "      <td>030000</td>\n",
       "      <td>...</td>\n",
       "      <td>0</td>\n",
       "      <td>0</td>\n",
       "      <td>0</td>\n",
       "      <td>1</td>\n",
       "      <td>1</td>\n",
       "      <td>1</td>\n",
       "      <td>0</td>\n",
       "      <td>1</td>\n",
       "      <td>1</td>\n",
       "      <td>食料品</td>\n",
       "    </tr>\n",
       "    <tr>\n",
       "      <th>S100TO96</th>\n",
       "      <td>580</td>\n",
       "      <td>2024-12-19</td>\n",
       "      <td>581</td>\n",
       "      <td>E27294</td>\n",
       "      <td>25880</td>\n",
       "      <td>9090001010626</td>\n",
       "      <td>株式会社プレミアムウォーターホールディングス</td>\n",
       "      <td></td>\n",
       "      <td>010</td>\n",
       "      <td>030000</td>\n",
       "      <td>...</td>\n",
       "      <td>0</td>\n",
       "      <td>0</td>\n",
       "      <td>0</td>\n",
       "      <td>1</td>\n",
       "      <td>1</td>\n",
       "      <td>1</td>\n",
       "      <td>0</td>\n",
       "      <td>1</td>\n",
       "      <td>1</td>\n",
       "      <td>食料品</td>\n",
       "    </tr>\n",
       "  </tbody>\n",
       "</table>\n",
       "<p>5 rows × 31 columns</p>\n",
       "</div>"
      ],
      "text/plain": [
       "          index access_date  seqNumber edinetCode secCode            JCN  \\\n",
       "docID                                                                      \n",
       "S100TMYO    231  2024-12-19        232     E00385   22200  4110001006378   \n",
       "S100TNWB    198  2024-12-19        199     E31012   28830  2010001048993   \n",
       "S100TLP1    214  2024-12-19        215     E00406   22670  7010401029746   \n",
       "S100TN7J    514  2024-12-19        515     E00354   21070  2010001034845   \n",
       "S100TO96    580  2024-12-19        581     E27294   25880  9090001010626   \n",
       "\n",
       "                       filerName fundCode ordinanceCode formCode  ...  \\\n",
       "docID                                                             ...   \n",
       "S100TMYO                亀田製菓株式会社                    010   030000  ...   \n",
       "S100TNWB                  株式会社大冷                    010   030000  ...   \n",
       "S100TLP1              株式会社ヤクルト本社                    010   030000  ...   \n",
       "S100TN7J                東洋精糖株式会社                    010   030000  ...   \n",
       "S100TO96  株式会社プレミアムウォーターホールディングス                    010   030000  ...   \n",
       "\n",
       "         withdrawalStatus docInfoEditStatus disclosureStatus xbrlFlag pdfFlag  \\\n",
       "docID                                                                           \n",
       "S100TMYO                0                 0                0        1       1   \n",
       "S100TNWB                0                 0                0        1       1   \n",
       "S100TLP1                0                 0                0        1       1   \n",
       "S100TN7J                0                 0                0        1       1   \n",
       "S100TO96                0                 0                0        1       1   \n",
       "\n",
       "         attachDocFlag englishDocFlag csvFlag legalStatus sector_label_33  \n",
       "docID                                                                      \n",
       "S100TMYO             1              0       1           1             食料品  \n",
       "S100TNWB             1              0       1           1             食料品  \n",
       "S100TLP1             1              0       1           1             食料品  \n",
       "S100TN7J             1              0       1           1             食料品  \n",
       "S100TO96             1              0       1           1             食料品  \n",
       "\n",
       "[5 rows x 31 columns]"
      ]
     },
     "execution_count": 8,
     "metadata": {},
     "output_type": "execute_result"
    }
   ],
   "source": [
    "yuho_df_filtered.head()"
   ]
  },
  {
   "cell_type": "markdown",
   "metadata": {},
   "source": [
    "# 2. Download the documents"
   ]
  },
  {
   "cell_type": "code",
   "execution_count": 9,
   "metadata": {},
   "outputs": [
    {
     "name": "stderr",
     "output_type": "stream",
     "text": [
      "100%|██████████| 30/30 [01:26<00:00,  2.88s/it]"
     ]
    },
    {
     "name": "stdout",
     "output_type": "stream",
     "text": [
      "取得失敗数:  0\n"
     ]
    },
    {
     "name": "stderr",
     "output_type": "stream",
     "text": [
      "\n"
     ]
    }
   ],
   "source": [
    "res_results = []\n",
    "for docid in tqdm(yuho_df_filtered.index):\n",
    "    out_filename = str(DATA_PATH / \"raw/xbrl_doc\" / (docid + \".zip\"))\n",
    "    res_results.append(request_doc(api_key=your_api_key, docid=docid, out_filename_str=out_filename))\n",
    "    sleep(0.5)\n",
    "print(\"Failed: \",len([res for res in res_results if res.status == 'failure']))"
   ]
  }
 ],
 "metadata": {
  "kernelspec": {
   "display_name": ".venv",
   "language": "python",
   "name": "python3"
  },
  "language_info": {
   "codemirror_mode": {
    "name": "ipython",
    "version": 3
   },
   "file_extension": ".py",
   "mimetype": "text/x-python",
   "name": "python",
   "nbconvert_exporter": "python",
   "pygments_lexer": "ipython3",
   "version": "3.12.0"
  }
 },
 "nbformat": 4,
 "nbformat_minor": 2
}
